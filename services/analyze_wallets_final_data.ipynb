{
 "cells": [
  {
   "cell_type": "code",
   "execution_count": 46,
   "metadata": {},
   "outputs": [],
   "source": [
    "import pandas as pd\n",
    "pd.set_option('display.float_format', lambda x: '%.2f' % x)\n",
    "pd.set_option('display.max_colwidth', None)\n",
    "\n",
    "\n",
    "\n",
    "import json\n",
    "from collections import Counter"
   ]
  },
  {
   "cell_type": "code",
   "execution_count": 2,
   "metadata": {},
   "outputs": [],
   "source": [
    "# Read the JSON file\n",
    "with open('data/wallet_analysis.json', 'r') as f:\n",
    "    wallet_data = json.load(f)"
   ]
  },
  {
   "cell_type": "code",
   "execution_count": 6,
   "metadata": {},
   "outputs": [
    {
     "name": "stdout",
     "output_type": "stream",
     "text": [
      "Counter({'TON': 1447, 'USD₮': 335, 'NOT': 229, 'RAFF': 170, 'tsTON': 140, 'DOGS': 136, 'KINGY': 123, 'durev': 112, 'GRAM': 90, 'STON': 89, 'WEB3': 86, 'WIF': 85, 'MMM': 80, 'TGRAM': 76, 'LP': 76, 'ANON': 75, 'DFC': 74, 'HMSTR': 69, 'MEM': 68, 'CLOWN': 68, 'LAVE': 66, 'HYDRA': 63, 'JETTON': 62, 'stXP': 59, 'FISH': 58, 'EGG': 57, 'CATI': 55, 'PX': 55, 'ARBUZ': 54, 'DUST': 53, 'DRIFT': 53, 'WOOF': 48, 'CRYSTALS': 46, 'REDO': 45, 'BOLT': 43, 'MY': 43, 'TONPEPE.XYZ': 40, 'UP': 40, 'MAJOR': 39, 'TON Unlock at tonlocks.com': 39, 'GLINT': 37, 'PXL': 37, 'TON Unlock unlock-ton.com': 36, 'FNZ': 35, 'TON Unlock at ton-unlock.com': 35, '': 35, 'BALLS': 34, 'TON Unlock at unlock-ton.com': 33, 'STORM': 33, 'BLUM': 33, 'MEME': 31, 'JVT': 30, 'GATO': 29, 'DGR': 29, 'TPET': 28, 'CATS': 28, 'DYOR': 27, 'MEH': 27, 'SOX': 26, 'ALT': 26, 'TON Unlock ton-locked.com': 26, 'GEMSTON': 26, 'PUNK': 26, 'WAT': 24, 'wCELL - cellana.org': 24, 'AquaXP': 23, 'GRC': 23, 'BUILD': 23, 'SQD': 23, 'stTON': 22, '$HMSTR': 21, '@BTC25': 21, 'PAWS': 20, 'GOD': 20, 'BARO': 20, 'TON Unlock tonlocked.com': 20, 'MRDN': 20, 'TIGER': 19, 'WHALE': 19, 'jSybzero': 19, 'TON Unlock ton-unlock.com': 19, 'PLANE': 19, 'jUSDT': 18, 'ANONXP': 18, 'THLP': 18, 'TON Unlock tonlocks.com': 17, 't.me/domain_tg ❤️': 17, 'DUCK': 17, 'SHIT': 17, '$ TONLK.COM': 17, 'ARC': 17, 'Bear': 16, 'RANDOM': 16, 'st-STORM-30D': 16, 'CLOWN/BTC XD': 16, 'GRAM-TON LP': 16, '$MAJOR': 16, '$X': 16, 'LLAMA': 16, 'RBTC': 16, 'COUB': 16, 'TON Unlock xton.us': 16, 'PEPE': 16, 'STAKED': 15, 'CLAY': 15, 'FPIBANK': 14, 'CRDF': 14, 'PEPPER': 14, 'clown': 14, 'TINU': 13, 'CES': 13, 'AIC': 13, 'WHISK': 13, 'CAR': 13, 'bct': 13, 'AMBR': 13, 'BOOBA': 12, 'DOGG': 12, 'REGI': 12, 'Зря': 12, 'DUROV': 12, 'BNK': 12, 'WALL': 12, '$CATS': 12, 'LKY': 11, 'DICK': 11, 'TON Unlock tonunlocked.com': 11, 'wNOT': 11, 'FTON': 11, 'USDT-SLP': 11, 'TONG': 11, 'WFM': 10, 'PUMP': 10, 'DEPOSIT': 10, 'GODL': 10, 'HIF': 10, 'KAKAXA': 9, 'JETS': 9, 'INS': 9, 'VOTE': 9, 'HAMSTER KOMBAT': 9, 'PITON': 9, 'Magic Crystal': 9, 'MEMEFI': 9, 'UTYAB': 9, 'TOMA': 9, 'USDT': 9, '$ TONPIX.COM': 9, 'NEWS': 9, 'PLANKTON': 9, 'MEMHASH': 9, 'WHL': 8, 'REBA': 8, 'SAU': 8, 'APC': 8, 'USDC': 8, 'TON Unlock at ton-unlock.cc': 8, 'AMT': 8, 'MARIO': 8, 'ICEBERG': 8, 'TON Unlock tonlk.com': 8, 'TPEPE': 8, 'MARS': 8, 'STBL': 8, 'TON-SLP': 8, 'SIBT': 8, 'LIFEYT': 8, 'TON Unlock TONLK.COM': 8, 'SOON': 8, '$FOMO': 8, '$WOOF': 8, 'TOL': 8, 'AMANITA': 8, 'WON': 8, 'ALISHER': 8, 'USD₮-TON LP': 8, 'PET': 8, 'GTON': 8, 'FRG': 8, 'POLY': 8, 'SAINT': 8, '$STORM': 8, 'SCAM': 8, 'hTON': 7, 'JMT': 7, 'st-AquaXP-30D': 7, 'SHIVA': 7, 'NOT Unlock notlocks.com': 7, 'TONY': 7, 'MARGA': 7, 'ANONs': 7, 'FWOG': 7, 'GLITCH': 7, 'jUSDC': 7, 'BOLGUR': 7, 'KONG': 7, 'STATHAM': 7, 'NOTAI': 7, 'MOON': 7, 'NUT': 6, 'AKA': 6, 'FREE': 6, '$META': 6, '$MEMHASH': 6, 'TAP': 6, 'MORFEY': 6, 'JDOGE': 6, 'SAFET': 6, 'PePeTon': 6, 'ANTON': 6, 'AquaUSD': 6, '$DOGE': 6, 'WFC': 6, 'Virtuals Worlds': 6, 'SHEKELI': 6, 'SUSHI': 6, 'REBE': 6, 'TAI': 6, 'DOPE': 6, 'PUTIN': 6, 'ZRO': 6, 'WTF': 6, 'HOT': 6, 'FNOT': 6, 'SHEET': 6, 'Y': 6, 'TNL': 6, 'uTON': 6, '2025': 6, 'SHARK': 6, 'MTK': 6, '$RECA': 5, 'TIME': 5, 'PONKE': 5, 'BEE': 5, 'ANGEL': 5, 'WOOD': 5, 'JOKER': 5, 'BUFFY': 5, 'TONIC': 5, 'LAIKA': 5, 'WOLF': 5, '$GROK': 5, 'CRYPTO': 5, 'tsTON/USDT PLP': 5, 'WAT-TON LP': 5, 'REKT': 5, 't.me/ip_tg 🟢 ': 5, 'TLB500': 5, 'VIRUS': 5, '$D.O.G.E.': 5, 'DOTA': 5, 'GROK': 5, 'TOKI': 5, 'NUMBER': 5, 'HAMSTER': 5, 'CUB': 5, 'Unlock at tonlocks.com': 5, 'PIGBANK': 5, 'VILARSO': 5, 'RUS': 5, 'IVS': 5, 'POT': 5, 'TONTP': 5, 'SHIC': 5, '$NOTINU': 5, 'MEOW': 5, 'TL': 5, '$WIF': 5, 'BURN': 5, 'BURJ': 5, 'PEIPEI': 5, 'ZOO': 5, 'GOVNO': 5, 'USD': 5, 'TGH': 5, 'BULL': 5, 'DEER': 5, 'People': 5, 'NOT unlock-not.com': 5, 'X': 5, 'RAIN': 5, 'RING': 4, 'INVEST': 4, 'BTN': 4, 'CPBR': 4, 'gasDCAT': 4, 'STON-TON LP': 4, '$USDC': 4, 'SQUID': 4, 'ULT': 4, 'TONK': 4, 'TONALD': 4, 'TONCUP': 4, 'TRUMP SHOT': 4, 'FUSDT': 4, 't.me/be_ts 💎': 4, 'wCELL - www.cellana.me': 4, 'BMW': 4, 'MEGA': 4, 'SKREPA': 4, 'UTN': 4, 'SHEEP': 4, 'UTYA': 4, 'ARCC': 4, 'VIP': 4, 'TAI2': 4, 'STARS': 4, 'TONKER': 4, 'Mittens': 4, 'TRUMP': 4, 'AVACN': 4, 'BBQ': 4, 'SLOW': 4, 'PIZZA': 4, 'RUGP': 4, 'PLD': 4, 'PMKA': 4, 'BEN': 4, 'TON Unlocks at unlock-ton.com': 4, 'FPI Bonus FPIBK.COM': 4, 'stTON-TON LP': 4, 'HMSTR Token': 4, 'BROTON': 4, 'GH': 4, 'RUZZIA': 4, 'BOME': 4, 'MONKEYS': 4, 'tun': 4, '$TSB': 4, 'KRABS': 4, 'jWBTC': 4, 'W3T': 4, 'HUBZOG': 4, 'WEND': 4, 'CHAPA': 4, 'DARK': 4, 'SSL': 4, 'BOGE': 4, 'MARSY': 4, 'LUDKA': 4, 'POO': 4, 'BTC XD': 4, 'FLAM': 4, 'LAND': 4, 'TON-JETTON LP': 4, 'SHIP': 4, 'CHERRY': 4, 'NOMB': 4, 'wCELL (www.cellana.me)': 4, 'FLIP': 4, 'SA': 4, 'CAT': 4, '$PX': 4, '$USD₮': 4, 'gas123': 4, 'TRIBE': 3, 'TWIF': 3, 'AIRDROP': 3, 'DRTS': 3, 'MGC': 3, 'PRIVATE': 3, 'MINI': 3, 'DOMES': 3, 'gasLOWIQ': 3, 'gasCHONKY': 3, 'FUSD': 3, 'SP': 3, 'LIQUID': 3, 'PERS': 3, 'ARNI': 3, 'tonplayer.xyz': 3, 'LBC': 3, 'TON-tsTON LP': 3, 'Spotty': 3, 'SQRL': 3, 'MTN': 3, 'test': 3, 'USD₮-tsTON LP': 3, 'USDT/TON PLP': 3, 'HPO': 3, 'ALPHA': 3, 't.me/domain_tg 💎': 3, 'TUFLI': 3, 'OPEN': 3, 'gasTRUTH': 3, 'TXS': 3, 'MARGE': 3, 'GOI': 3, 'cGPT': 3, 'TON-UNLOCK.COM': 3, 'ARUT': 3, 'BOOK': 3, 'BIRD': 3, 'DOGE': 3, 'OKX Racer': 3, 'oETH': 3, 'DINJA': 3, 'WEED': 3, 'gasTCIFER': 3, 'UNIC': 3, 'YO': 3, 'BRAD': 3, 'TMartICO': 3, 'REWIFE': 3, 'wPICA': 3, 'CHAD': 3, 'TGINU': 3, 'XROCK': 3, 'Toncoin (Safe)': 3, 'Door': 3, 'GAIKA': 3, 'ENERGY': 3, 'TAKEN': 3, 'BITTON': 3, 'MAN': 3, 'BRITVA': 3, 'DRAGO': 3, 'SPN': 3, '$CANA': 3, 'RIDO': 3, 'DHD': 3, 'LOVE': 3, 'INC': 3, 'HAWK': 3, 'Калашникова': 3, 'ТОN': 3, 'WTON': 3, '$TRUMP': 3, 'NOT-SLP': 3, 'tsTON receive at tston.my': 3, 'FWT': 3, 'MOVE': 3, 'TAPE': 3, 'BRRRRR': 3, 'GMGM': 3, 'gasTONY': 3, 'TEN': 3, 'TONPX.COM': 3, 'TAPS': 3, 'Trump': 3, 'MAX': 3, 'RRUSH': 3, 'gasTDARKDOG': 3, 'DEGEN': 3, 'FPIRED': 3, 'TELE': 3, 'mNOT': 3, 'PROTON': 3, 'REDX': 3, 'gasDPEPE': 3, 'gasSHI': 3, 'DUBAI': 3, 'M5': 3, 'TFLOKI': 3, 'SQG': 3, 'RAKETKA': 3, 'gasSCAM': 3, 'GPU': 3, 'GEM': 3, 'VOLK': 3, '$MOON': 3, 'SC': 3, 'DEANON': 3, 'NGU': 3, 'HARRY': 2, 'j-NPRISM': 2, 'PIG': 2, 'TROLL FACE': 2, 'SLUT': 2, 'LIBRA': 2, 'COW': 2, 'CRUMB': 2, 'CFT': 2, 'gasCFMP3': 2, 'gasTBABY': 2, 'gasGRENDIZER': 2, 'gasBULL': 2, 'gasBZAX': 2, 'gasMAGADON': 2, 'gasPEPEOS': 2, 'gasGDOG': 2, 'gasCRCATMP3': 2, 'PNYA': 2, 'CHOPPO': 2, '$MYXI': 2, 'EVGEN': 2, 'gasSLIPPAGE': 2, 'BPUMP': 2, 'gasGASPUMPKIN': 2, 'gasBIGBUTTS': 2, 'gasBMOJI': 2, 'DFC-TON LP': 2, 'LUCKY': 2, 'TAK': 2, 'gasMAZZA': 2, 'RCT': 2, 'REDOI': 2, 'BLYAT': 2, 'sTONks': 2, 'TonPepe': 2, 'TOON': 2, 'PUTON': 2, 'FLOKIT': 2, '$ TONPX.COM': 2, 'Shiro': 2, 'ICTN': 2, 'oKLAY': 2, 'Donut': 2, 'LISA': 2, 'MF': 2, 'gasFOXXIE': 2, 'Points': 2, 'gas1TON': 2, 'Swap at majors.cc': 2, 'MPT': 2, 'TON Swap at tonlk.com': 2, 'LOYAL': 2, 'EURO2024': 2, 'ZEN': 2, 'ASTER': 2, 'CATA': 2, '$EWIF': 2, 'PUMPCORN': 2, 'TJERRY': 2, 'ATON': 2, 'BBNOT': 2, 'LGBTQ': 2, 'DGT': 2, 'BUTTON': 2, 'GGM': 2, 'REDO2': 2, 'CROCO': 2, 'MiD': 2, 'gasTOME': 2, 'NEWTON': 2, 'gasNBOB': 2, 'BOOM': 2, 'POE': 2, '24/7': 2, 'TMCC': 2, 'WDLE': 2, 'PIF': 2, 'Peach ': 2, 'BLUPE': 2, 'BOBE': 2, 'MAGA': 2, 'TCANDY': 2, 'gasPOT': 2, 'SPAIN-ENGLAND': 2, 'CRUTON': 2, 'Doodie': 2, 'MONK': 2, 'MULB': 2, 'CLAIM': 2, 'BTK': 2, 'SHMABANK': 2, 'RICHE': 2, '$TWIF': 2, 'j1INCH': 2, 'OR': 2, 'TNG': 2, 'THC': 2, 'MSHRM': 2, 'MM24': 2, 'NIRO': 2, 'REWIF': 2, 'GOY': 2, 'gasTON': 2, 'gasFUEL': 2, 'gasHBRETTA': 2, 'gasTHORSE': 2, 'TREETON': 2, 'BATYA': 2, 'TIGER-TON LP': 2, 'BOSST': 2, 'TONITA': 2, 'PIECE': 2, 'gasMAGOT': 2, 'GOATS': 2, 'BABYTON': 2, 'MONKEY': 2, 'BRRR': 2, 'SEC': 2, 'BANANA': 2, 'APET': 2, 'PHONE': 2, 'TON-DLP': 2, 'FTONS': 2, 'SPLASH': 2, '.tBTC': 2, 'FOT': 2, 'LUCY': 2, 'DGN': 2, 'SENSExGUARDIANS': 2, 'APHBT': 2, 'tap.chat.coin': 2, 'AUE': 2, 'CLAIM TOKEN: stonfi.help': 2, 'gasGRAY ': 2, 'gasPIKA': 2, 'gasBOR': 2, 'E': 2, 'gasCOPTER': 2, 'gasDICH': 2, 'gasCRG': 2, 'gasMMM': 2, 'gasGANDALF': 2, 'gasPORNHUBMP3': 2, 'gasTONLAMA': 2, 'SIMPSTON': 2, 'MANDER': 2, 'BER': 2, 'ANANAS': 2, 'KDZN': 2, 'gasCATSY': 2, 'gasARTN': 2, 'gasMOH': 2, 'gasGOLD': 2, 'gasANGRYMEOW': 2, 'gasJAIR': 2, 'gasOGAT': 2, 'gasCHUDLY': 2, 'SOSI': 2, 'Doruv': 2, 'RED': 2, 'ЅCALE': 2, 'TYFLI': 2, '+10000 CATS claim on www.catscoin.net': 2, '$PIXEL': 2, 'USDT TRC20': 2, 'Yoda': 2, 'T404': 2, 'WUF': 2, '$CES': 2, 'DODO': 2, 'RCS': 2, 'TORK': 2, 'gasTLT': 2, 'IRNC': 2, 'CYT': 2, 'AKS': 2, 'gasGAVCAT': 2, 'gasWATER': 2, 'TON Unlock at xton.us': 2, 'crtLP': 2, 'LODKA': 2, ' Corvalol': 2, 'gasTBOB': 2, 'gasEUDOG': 2, 'gasFUCKF': 2, 'gasPOOP': 2, 'gasFRUG': 2, 'gasTONIKA': 2, 'gasSYN': 2, 'oMATIC': 2, 'SAKE': 2, 'OLK': 2, 'FOMO': 2, 'ONLYX': 2, '$STICK': 2, 'STICK': 2, 'BIRB': 2, 'SHRIMP': 2, 'GAGIK': 2, 'NEIRO': 2, '+10000 MemeFi claim on @memefix_bot': 2, 'MineX': 2, 'MIC': 2, 'SKUF': 2, 'USD₮-pTON LP': 2, 'OWL': 2, 'gasANDY': 2, 'gasTPEN': 2, 'GOSLING': 2, '1TON': 2, 'Obama': 2, 'MUMBA': 2, 'ALENKA': 2, 'WALDO': 2, 'gasRTS': 2, '$SHARD': 2, 'WEN': 2, 'Only one token': 2, 'CUBE': 2, 'SHIBT': 2, 'ICE': 2, 'Simps': 2, 'Rose': 2, 'DTRUMP': 2, 'KGB': 2, 'TON at tonlocked.com': 2, '$ FPIBK.COM': 2, 'gasTJEET': 2, 'gasПАЛОЧКИ': 2, 'gasTMON': 2, 'gasTDARK': 2, 'gasTONCTO': 2, 'gasTMILK': 2, 'gasRDOGE': 2, 'gasTMAGA': 2, 'WAGMI': 2, 'BABLO': 2, 'RENO': 2, 'TON Unlock unlock-ton.org': 2, 'NIKO': 2, 'AIR': 2, 'KARMA': 2, 'MAG': 2, 'gasBTC': 2, 'gasLIZZY': 2, 'gasJULIA': 2, 'gasBST': 2, 'gasREDUCK': 2, 'gasMBW': 2, 'DOG': 2, 'EURO': 2, 'QUACK': 2, 'PUG': 2, 'Mfckr': 2, 'ZNAK': 2, 'CABAL': 2, 'LSQG': 2, 'STL_WEB3_TON': 2, '$REPA': 2, 'gasКЕША': 2, 'PCAT': 2, 'TONKE': 2, 'MASHA': 2, 'gasBBRETT': 2, 'STL_MID_1': 2, 'BABUSHKA': 2, 'CATCOIN': 2, 'gasSWEETIE': 2, 'DONT': 2, 'NOTGEM': 2, 'MCN': 2, 'AGC': 2, 'REMY': 2, 'DOGS $ unlockdogs.com': 2, 'GM': 2, 'AGLD': 2, 'CAVI': 2, 'why': 2, 'DLT': 2, 'gasTIM': 2, 'ANAL': 2, 'JSI': 2, 'TONPIX.COM': 2, 'gasGIZMO': 2, 'PTJ': 2, 'KABAN': 2, 'CLICK': 2, 'Elon_Musk': 2, 'TON.': 2, 'ARDNOT': 2, 'LK': 2, 'LJ4': 2, 'VALET': 2, 'gasSOL': 2, 'gasNEIRO': 2, 'Ton': 2, 'BCLUB': 1, 'REDU': 1, 'NCC': 1, 'TOKEN2049': 1, 'RC': 1, 'j-MFM': 1, 'MUZZY': 1, 'YUME': 1, 'PTERO': 1, 'DRA': 1, 'EVELONE': 1, 'MIZUKI': 1, 'PRIVATE AGLD': 1, 'gasCAW': 1, 'gasOCOW': 1, 'gasOHH': 1, 'gasJASON': 1, 'gasKC': 1, 'gasBD': 1, 'gasCOG': 1, 'gasBNEIRO': 1, 'gasROCK': 1, 'CHONK': 1, 'BEER': 1, '$': 1, 'gasNTO': 1, 'IVFUN': 1, 'KARTOSHK': 1, 'gasFST': 1, 'gasSCT': 1, 'gasERROR404': 1, 'gasMRBEAN': 1, 'gasURL': 1, 'gasMOM': 1, 'gasSEXYDD': 1, 'HotDog': 1, 'gasDWHG': 1, 'gasGOODBOI': 1, 'gasTRUMPITIS': 1, 'gasSWAPIT': 1, 'gasBFROG': 1, 'BFM': 1, 'cent': 1, 'Hello': 1, 'KODI': 1, 'tLUST': 1, 'MCT': 1, 'BIBI': 1, 'TAKE': 1, 'XO': 1, 'NVL': 1, 'TON-KRABS LP': 1, 'TST': 1, 'HS': 1, 'Essence': 1, 'SFM': 1, '$GNOM': 1, 'DYRAK': 1, 'D-CAT': 1, 'BRONIK': 1, 'ARBuZ(uzbekiston)': 1, 'BLD': 1, 'gasLING': 1, 'gasМАША': 1, 'gasBIAO': 1, 'PTENEC': 1, 'gasBSPOTTY': 1, 'gasBEARMONEY': 1, 'gasLOCKEDTON': 1, 'CLUB': 1, 'INVESV': 1, 'URU': 1, 'PRZH': 1, 'DIF': 1, 'pTON-DIF LP': 1, 'DIF-USD₮ LP': 1, 'NEGRONI': 1, 'A': 1, '$NEKO': 1, 'COMM': 1, 'GMNC': 1, 'SKELETON': 1, 'TONS': 1, 'THIB ': 1, 'THIB': 1, 'TNT': 1, 'CHAPO': 1, 'Ardo': 1, '$MYRA': 1, 'OTN': 1, '$KPEPE': 1, 'BEL': 1, 'COTON': 1, 'VK': 1, 'MINDS': 1, 'LADY': 1, 'MIRAI': 1, 'JT': 1, 'FTT': 1, 'Ливси': 1, 'Мать': 1, 'CYKA': 1, 'Зайчик': 1, 'MILY': 1, 'MMT': 1, 'TC': 1, 'HBOSS': 1, '@HugoBoss': 1, 'gasMUMUN': 1, 'gasGAMBLECORE': 1, 'gasMEMECAT': 1, 'jUSDC  ': 1, 'TonTon': 1, 'KTG': 1, 'gasBABIES': 1, 'gasBART': 1, 'gasMJ': 1, 'gasBEAVER': 1, 'KFC': 1, 'gasLV': 1, 'MESSAGE': 1, 'DNC': 1, 'BTON': 1, 'SOYUZ': 1, 'BARAN': 1, 'PIRA': 1, 'REST': 1, 'CATLOVE': 1, 'Cupid': 1, 'Jew': 1, 'Rabbit': 1, 'TGRUM': 1, 'BFS': 1, 'NOTDEV': 1, 'TEFTEL': 1, 'JCAT': 1, 'TITAN': 1, 'B2C2': 1, 'gasTERMINATOR': 1, 'Grim': 1, 'TG': 1, 'DIVINE': 1, '%': 1, 'APLN': 1, 'AXE': 1, 'Cheburashka': 1, 'TROLL': 1, 'TINTIN': 1, 'RUNESBOT': 1, 'ANONDOGE': 1, 'TIKI': 1, '8num': 1, 'gasHOUDINI': 1, 'FLAME': 1, 'BePe': 1, 'ERIC': 1, 'DEAD': 1, 'PHYT': 1, 'NARUTO': 1, 'OTON': 1, 'MOODENGTON': 1, 'TMB': 1, 'GAY': 1, 'ALFCOIN': 1, 'PeacT': 1, 'Lumber': 1, 'GROSH': 1, 'Dap': 1, 'MINT': 1, 'BABYCPBR ': 1, 'gasDYOR': 1, 'gasBOSS': 1, 'gasBAREBUH': 1, 'TBC': 1, 'gasSUNBO': 1, 'gasCHEESE ': 1, 'gasTONT': 1, 'gasKRST': 1, 'gasGEORGIA': 1, 'gasDOUG': 1, 'gasPUPI': 1, 'gasBENI': 1, 'gasNOTGEM': 1, 'gasVIBING': 1, 'gasNEUR': 1, 'gasHPEPE': 1, 'TPHANT': 1, 'THNX': 1, 'SKLTON': 1, 'PUN': 1, '$SPUDI': 1, 'Денег': 1, 'XPOLL': 1, 'NTOcoin': 1, 'GOLD': 1, 'GRN': 1, 'LIQUIDATION': 1, 'gasKOKS': 1, 'STA': 1, 'IDIOT': 1, 'FBI': 1, 'LOVEIS': 1, 'TNI': 1, 'CHIDA': 1, 'ERBUZ': 1, 'KUTI': 1, 'PROMMINER': 1, 'NPEPE': 1, 'ANAKO': 1, 'pTON-ANAKO LP': 1, 'ANAKO-USD₮ LP': 1, 'GAGA': 1, 'PATRON': 1, 'PATRON-USD₮ LP': 1, 'DYU': 1, 'gasSOS': 1, 'TDUCK': 1, 'IDGAF': 1, 'PAVEL': 1, 'ZOE': 1, 'FLOKITON': 1, 'ARMA': 1, 'SUPTON': 1, 'TIF': 1, 'gasSLERF': 1, 'BRETTA': 1, 'SPIKE': 1, 'HUGO': 1, 'TSHIB': 1, 'CANVA': 1, 'BABYTDOG': 1, 'gasTNIGGA': 1, 'wMOTHER': 1, 'JDCN': 1, 'TONCHECK': 1, 'DRAGON': 1, 'JOG': 1, '$CAKE': 1, 'TOMATO': 1, '$KGB': 1, 'SquidGame': 1, '$PORK': 1, 'TEKTON': 1, 'USPEPE': 1, '$MICHI': 1, 'PEDO': 1, 'gasBPEPE': 1, 'JESUS': 1, 'gasSURVIVOR': 1, 'CMTC': 1, 'AMN': 1, 'SFT': 1, 'VIC': 1, 'KENDAR': 1, 'BALLZ': 1, 'WENNOT': 1, '$AKITA': 1, 'SMART': 1, '1RUSD': 1, 'NIOCTON': 1, 'NOTPEPE': 1, 'SHIV': 1, 'MEF': 1, 'GROKI': 1, '1RUS': 1, 'UAH': 1, 'PRESENT': 1, 'GREEN': 1, '$CPBR': 1, 'DTC': 1, 'TOD': 1, 'Grib': 1, 'UMC': 1, 'SMS': 1, 'PZM': 1, 'AIRTEL': 1, 'WTH': 1, 'MGS': 1, 'MORKOV': 1, 'ROTGAR': 1, 'RHYMETON': 1, 'SCHMALZ': 1, 'IF': 1, 'SCL': 1, 'HABIBI': 1, 'SHINOBI': 1, 'FCK': 1, 'oUSDT': 1, 'POW': 1, 'yiyg': 1, 'TANGO': 1, 'PODKRADULI': 1, 'UNP': 1, 'REDDIT': 1, 'Daddy': 1, 'ROSE': 1, 'BITCLOWN': 1, 'TCC': 1, 'STLG': 1, 'wCELL - cellana.me': 1, 'SHVB': 1, 'JTON': 1, 'FPIBANK-pTON LP': 1, 'DUMA': 1, 'DUMA-TON LP': 1, 'SAM': 1, 'KO': 1, 'STEX': 1, 'Monkeycrime': 1, 'Monkban': 1, 'PENG': 1, 'Waifu': 1, 'WW': 1, 'TON Unlocks at tonunlock.ru': 1, 'Alpha': 1, 'JEMBUT': 1, 'NB': 1, 'KURO': 1, 'RTRUMP': 1, 'BoJack': 1, 'JERITON ': 1, 'foto': 1, 'BFROG': 1, 'V': 1, 'AMC': 1, 'TUFLI2': 1, 'HOTKRVT': 1, 'CHEEZ': 1, 'CTON': 1, 'gasNOTCOIN': 1, 'gasVPDR': 1, 'gasDUREV': 1, 'gasYWGWKGAY': 1, 'gasSHEKEL': 1, 'gasKETH': 1, 'gasUKKONCHIL': 1, 'gasKONCHIL': 1, 'gasSASHAWAR': 1, 'Kittens': 1, 'gasGOI': 1, 'gasFUFEL': 1, 'gasLUDKA': 1, 'TRUMP HERO': 1, 'ROSTIC': 1, 'gasKRSTL': 1, 'gasTBOBER': 1, 'gasTCAPY': 1, 'gasFKKANMLS': 1, 'gasTPON': 1, 'gasTVOLK': 1, 'gasTPHANT': 1, 'gasTHIPP': 1, 'gasTPIGGY': 1, 'gasTBEEE': 1, 'gasTFROGGY': 1, 'gasTCLWN': 1, 'gasTHIPPP': 1, 'gasTHMSTR': 1, 'gasTWHL': 1, 'gasWHALE': 1, 'gasSIGMA': 1, 'NOT-TON LP': 1, 'ELPHNT': 1, 'DURKA': 1, 'CHEEKI': 1, 'GPX': 1, 'JBT': 1, 'PTF': 1, 'RULO': 1, 'Ipli': 1, 'POPCAT': 1, 'BRETT': 1, 'FLOKI': 1, 'FROMG': 1, 'NUTS': 1, 'AXAKAK': 1, 'GOI3': 1, 'RACOON': 1, 'MEMEBOX': 1, 'HADES': 1, 'gasTWICK': 1, 'TREMP': 1, 'STCP': 1, 'BYLA': 1, 'DUR': 1, 'NUDES': 1, 'TROJAN': 1, '$GORILLA': 1, '1PTON': 1, 'TON-WEB3 LP': 1, 'pTON-JETTON LP': 1, 'UXLINK': 1, 'gasTDORA': 1, 'ᴛᴏɴᴘɪx.ᴄᴏᴍ': 1, 'Easy ': 1, 'SML': 1, 'TETRIX': 1, '001': 1, 'MOMO': 1, 'LAMBO-pTON LP': 1, 'LAMBO': 1, 'MFM': 1, 'RASPY': 1, 'oUSDC': 1, 'PETON': 1, '...': 1, 'kW': 1, 'ROFLWOLF': 1, 'SIYAT': 1, 'gasMOJO': 1, 'PEPE JETTON': 1, 'USDC ': 1, 'OG': 1, 'CMP': 1, 'CASH': 1, 'USDT @ tonlinker.com': 1, 'PAMP': 1, 'STL_USDT_TON': 1, 'GLS': 1, 'GOICHIK': 1, 'end?': 1, 'gasLON': 1, 'gasRUNIGGA': 1, 'gasRUTON': 1, 'gasASS': 1, 'gasSADKARIM': 1, 'HAPPY': 1, 'gasBBC': 1, 'gasSADDOGE': 1, 'gasFCM': 1, 'gasWOOF': 1, 'STRAWBERRY': 1, 'gasBSKT': 1, 'gasF': 1, 'gasQUACK': 1, 'gasMGMMP3': 1, 'gasSGLP': 1, 'OCOW': 1, 'gasWEGA': 1, 'USACH': 1, 'MKAT': 1, 'SPR': 1, 'SPIN': 1, 'tst': 1, '2048': 1, 'gasDAWG': 1, 'GOLDA': 1, 'LITBE': 1, 'PLET': 1, 'TRITON': 1, 'GVNCHK': 1, 'SORRY': 1, 'gasNONI': 1, 'gasCBMF': 1, 'gasANTONINA': 1, 'gasPUMP': 1, 'gasWAZA': 1, 'gasNPC': 1, 'gasHYPNO': 1, 'gasMCRG': 1, 'gasANY': 1, 'gasORG': 1, 'gasAISONG': 1, 'gasEAMP3': 1, 'gasCOCO': 1, 'gasNHT': 1, 'gasKROSHIKF': 1, 'gasMBT': 1, '$BATYA': 1, 'WOOFY': 1, '$NEO': 1, 'SEGA': 1, 'SLEEPCAT': 1, 'WIN98': 1, 'EAGLE-P': 1, 'BOOMEOW': 1, 'GOAT': 1, 'TriTon': 1, '@NOVOSTI': 1, 'Lool': 1, 'MOTIVATION': 1, 'PEBURN': 1, 'DGROK': 1, 'TMT': 1, 'MASK': 1, 'OXXXY': 1, 'LITVIN': 1, '$NASTY': 1, 'FIGHT': 1, 'Blum': 1, 'ERAN': 1, 'KITSU': 1, 'gasZAZACAT': 1, 'gasFIST': 1, 'BGT': 1, 'jU\\u2063SDT': 1, 'TapSwap': 1, 'Major': 1, 'WEIGHT': 1, 'SBABET': 1, 'wsTON': 1, 'T4U': 1, 'STARWARS': 1, '666': 1, 'OCEAN WHALE': 1, 'DUCK TON': 1, 'ELON $DOGE': 1, 'Albania': 1, 'ALB': 1, 'KRSHK': 1, 'ywgwk': 1, 'ONE': 1, 'DOGETON': 1, 'ANTI-VIRUS': 1, 'FKMORGEN': 1, 'MAFIA': 1, 'KSPR': 1, 'BOS': 1, 'AVTR': 1, 'LFGO': 1, 'gasCTIDAO': 1, 'TON Dog WIF Hat': 1, 'nFAM': 1, 'MAKOKO': 1, 'gasNGUF': 1, 'gasSUN': 1, 'gasGRUMPY': 1, 'gasPUTON': 1, 'gasGEGERIN': 1, 'ZALP': 1, 'COCAIN': 1, 'CN': 1, 'hTON1': 1, 'TON7DAO': 1, 'HAKI': 1, 'TBONK': 1, 'GOLDFISH': 1, 'CATAI': 1, 'tBTC': 1, 'MUMSK': 1, 'HGL': 1, 'MBAPPE': 1, 'PEDRO': 1, 'CTP': 1, 'STORM-pTON LP': 1, 'FROGS': 1, 'PONCH': 1, 'LITENERGY': 1, 'GUFEE': 1, 'EKB': 1, 'jVGX': 1, 'XSPACE': 1, 'jARBUZ': 1, 'IUM': 1, 'ooooo': 1, 'STES': 1, 'ameba': 1, 'ameba-TON LP': 1, 'PIPISYA': 1, 'gasFDOG': 1, 'wIDOWN': 1, 'gasDONDON': 1, 'gasTRUNYA': 1, 'gasBURTON': 1, 'gasDSHRK': 1, 'gasKRA': 1, 'TDARK': 1, 'gasBONES': 1, 'SHLP': 1, 'ROON': 1, 'SADMEOW': 1, 'gasBANDITO': 1, 'LOLON': 1, 'airdrop': 1, 'ERROR': 1, 'LSW': 1, 'LYDKA': 1, 'QTCn': 1, 'QTC': 1, 'pTON-QTC LP': 1, 'GWT': 1, 'UP-TON LP': 1, 'TOPPY': 1, 'McLaren Morgena': 1, 'CLW': 1, 'TONNY': 1, 'Gena': 1, 'gasPIXAR': 1, 'TTRUMP': 1, 'gasBCAT': 1, 'gasWIFNOEAR': 1, 'gasKEK': 1, 'gasTADDY': 1, 'gasVK': 1, 'gasFS': 1, 'gasDUROV': 1, 'gasFREEDUROV ': 1, 'gasFFRANCE': 1, 'gasETT': 1, 'gasMACRON21': 1, 'gasCATHIPPO': 1, 'gasANONS': 1, 'gasRUPPO': 1, 'gasTCAM': 1, 'gasSCR': 1, 'gasVOLUME': 1, 'gasCOMI': 1, 'gasMEW': 1, 'gasGTB': 1, 'gasVIBE': 1, 'gasTDOGS': 1, 'gasTDV': 1, 'gasLAIKA': 1, 'TRINITY': 1, 'gasMR BEAST': 1, 'PUKI': 1, 'TON-PUKI LP': 1, 'TOGE': 1, 'droke': 1, 'YOLOBEAR': 1, 'ROFLAN': 1, 'WHO': 1, 'SQ': 1, 'SIC': 1, '🌟': 1, 'TSP': 1, 'DDOG': 1, 'MOMMY': 1, 'gasPËS': 1, 'DEADPUTIN': 1, 'TIC': 1, 'MRPDRS': 1, 'BFISH': 1, 'tonx20': 1, 'TPX': 1, 'KITO': 1, 'GG': 1, 'REBL': 1, 'LUGO': 1, 'PingPong': 1, 'TBRC': 1, 'Yggdrasil': 1, 'TONCLOUD': 1, 'VSH': 1, 'gasUSSR': 1, 'gasTODAY': 1, 'HOLY': 1, 'SEED': 1, 'TONJI': 1, 'MTON': 1, 'TonApe': 1, 'TonKirby': 1, 'GRT': 1, 'TKONG': 1, 'BRB Token': 1, 'shark': 1, 'PTON': 1, 'RUNESTON': 1, 'gasWATCH': 1, 'st-LLAMA-25D': 1, 'gasPIT': 1, 'BILLY': 1, 'gasAK47': 1, 'gasSD': 1, 'gasTSLERF': 1, 'gasBABA': 1, 'gasTBAT': 1, 'gasTRPD': 1, 'gasTSHEEP': 1, 'gasFETH': 1, 'gasRERO': 1, 'gasNIPPY': 1, 'FTH': 1, 'FINCH': 1, 'MEOW.MP3': 1, 'FINE': 1, 'RUNA': 1, 'TRAVEL': 1, 'MORPHELINA': 1, 'HASBIK': 1, 'NPV': 1, 'st-JVT-3D': 1, 'NOTEGGS': 1, 'Dust': 1, 'SafeM': 1, 'getgems': 1, 'Bogy': 1, 'FEF': 1, 'LEF': 1, 'RDY': 1, 'gasGASCAT': 1, 'gasTBL': 1, 'gasTTOAD': 1, 'gasTWIF': 1, 'YCAT': 1, 'BOMBIE': 1, 'gasKALIK': 1, 'gasPEDIDI': 1, 'WhiteCoin': 1, 'BURNER': 1, 'dutev': 1, 'RACE': 1, 'gasBULGUR': 1, 'BLKSWN': 1, 'BUDDY': 1, 'SONIC': 1, 'RACON': 1, 'NEW': 1, 'PURER': 1, 'gasPDFB': 1, 'MPe': 1, '龱ᎶᎶ': 1, 'gasLOGOVO': 1, 'DOLANDUCK': 1, 'DOBER': 1, 'Reda': 1, 'AICAT': 1, 'NASA': 1, 'PANDA': 1, 'TRUMPE': 1, 'SAVA': 1, 'BANG': 1, 'TopG': 1, 'COBRA': 1, 'THINKER': 1, 'ENGLAND': 1, 'TRTON': 1, 'SPAIN': 1, 'DOGH': 1, 'HRZ': 1, '$BON': 1, 'WOWSTTON': 1, 'NUKA': 1, 'BANANAMETR': 1, 'QUE': 1, 'NaN': 1, 'ZIP': 1, 'gasSHURIK': 1, 'gasDURDEX ': 1, 'gasANGRY': 1, 'gasSHISHA': 1, 'gasTBO': 1, 'gasNERD': 1, 'gasSAITAMA': 1, 'gasTOPDOG': 1, 'gasSPERM': 1, 'gasUFC': 1, 'gasBUBE': 1, 'gasDUST': 1, 'gasTOM': 1, 'gasRTXM': 1, 'gasTOD': 1, 'gasTOAD': 1, 'gasSLOBODA': 1, 'gasNOTHING': 1, 'gasDUNDUN': 1, 'gasTOT': 1, 'gasOLT': 1, 'gasGOLDGAS': 1, 'gasPIKATON': 1, 'gasMOODENGTON': 1, 'gasSFX': 1, 'gasNPUNK': 1, 'gasGTE': 1, 'gasLALA': 1, 'gasWOLF': 1, 'gasCATL': 1, 'BALLOON': 1, 'Alien': 1, 'BGOI': 1, 'Btcj': 1, 'PUNK-TON LP': 1, 'AUCTION': 1, 'plotvinev': 1, 'GGR': 1, 'NDT': 1, 'WALLET': 1, 'st-TNX-30D': 1, 'PUPCUBY': 1, 'CAPO': 1, 'TDASH': 1, 'XRAID': 1, 'T O N': 1, 'BSNSSMEME': 1, 'чебурашка': 1, 'gasBABYTRUMP ': 1, 'gasBABYBIDEN': 1, 'gasAQA': 1, 'REGI-TON LP': 1, 'gasRPC': 1, 'CIFER': 1, 'Æ': 1, 'BODEN': 1, 'CTRB': 1, 'ADJ': 1, 'jMNT': 1, 'NEWCOMM': 1, '888': 1, 'JOI2049': 1, 'TUXCAT': 1, 'SPONGEBOB': 1, 'Duck': 1, 'MP': 1, 'gasTRUMPTON': 1, 'gasSVETLANA': 1, 'gasDOGIZ': 1, 'gasWOLI': 1, 'skeleton': 1, 'gasTPURIN': 1, 'gasGMAFIA': 1, 'gasFIGHT DUCK': 1, 'gasWYLSA': 1, 'gasTPX': 1, 'gasTPLUTO': 1, 'gasGG': 1, 'gasTORRINT': 1, 'gasGLION': 1, 'gasTONCHI': 1, 'NTON': 1, 'gasTRMP': 1, 'TONKOFF': 1, 'gasCROCS': 1, 'gasUMKA': 1, 'ST6': 1, 'gasTWOG': 1, 'gasHOPPY': 1, 'gasWHITE': 1, 'gasRED': 1, 'gasPANDA': 1, 'gasFARM ': 1, 'gasGLZ': 1, 'gasBALADES': 1, 'gasBUNT': 1, 'gasARMY': 1, 'gasROLLTON': 1, 'GME': 1, 'GCH': 1, 'TONNO': 1, 'HOMER': 1, 'FRANCE': 1, 'ECI': 1, 'GERMANY': 1, 'FatBassCat': 1, 'BTonald': 1, '$RDJT': 1, '$STEVE': 1, 'WOJAK': 1, 'GenA': 1, 'APEPE': 1, 'TDuck': 1, 'BITCOIN': 1, 'MELL': 1, 'BOBBY': 1, 'Gegerin': 1, 'REAPER': 1, 'WIN': 1, 'DGENS_TON': 1, 'Шайлушай': 1, 'APRIL': 1, 'dufo': 1, 'TVERSE': 1, 'STE': 1, 'ALCO': 1, 'TON - Unlock at tondc.com': 1, 'BSCA': 1, 'NFTON': 1, 'SWIM': 1, 'BOOBА': 1, 'BOOB': 1, 'TEST1': 1, 'SMOKER': 1, 'YES': 1, 'SOSHA': 1, 'Mellstroy': 1, 'gasКОЛОБОК': 1, 'gasBRETTA': 1, 'gasРОСТ': 1, 'gasDUNNO': 1, 'gasYAGA': 1, 'gasBILLY': 1, '$CocaKolya': 1, 'gasTCHAD': 1, 'gasNIKDUROVS': 1, 'SURVIVOR': 1, 'OLX': 1, 'OLX-TON LP': 1, 'TTM': 1, 'VIS': 1, 'gasTOME TON': 1, 'gasMAPE': 1, 'gasVOVKA': 1, 'gasCIS': 1, 'gasEXA': 1, 'gasCRLS': 1, 'gasTLAMA': 1, 'gasTOTORO': 1, 'gasTONA': 1, 'gasTUKO': 1, 'gasPYAT': 1, 'gasVKUSNO': 1, 'gasMADPEPE': 1, 'gasMICU': 1, 'gasPUGGY': 1, 'gasPOOH': 1, 'gasGATOR': 1, 'gasBEAN': 1, 'gasGECKZ': 1, 'gasGAY': 1, 'gasBPTON': 1, 'gasMAGA': 1, 'gasBABYHMSTR': 1, 'gasPLUTON': 1, 'gasWOMAN': 1, 'gasPHANTON': 1, 'gasROOST': 1, 'gasETON': 1, 'gas💩💩💩💩💩': 1, 'gasPPP': 1, 'gasWATON': 1, 'gasWOJAK': 1, 'gasDOGI': 1, 'gasPEPIG': 1, 'gasROCKS': 1, 'gasTONPLE': 1, 'gasCRTMN': 1, 'gasNTN': 1, 'gasGOAT': 1, 'gasREVO': 1, 'gasMEME': 1, 'gasZYCON': 1, 'BLN': 1, 'BLNTST': 1, 'GODZ': 1, 'LTL': 1, 'IVfun': 1, 'SFFOV': 1, 'FREE DUROV': 1, 'SNT': 1, 'TONPAD': 1, 'ALPACA': 1, '711': 1, 'LUCKY-TON LP': 1, 'w': 1, 'AMIRAN': 1, 'BABYDOGE ': 1, 'AM': 1, '$Don': 1, 'SAKURA': 1, 'gasSA': 1, 'CROCS': 1, 'TONGASPUMP': 1, 'OCHKO': 1, 'DONDON': 1, 'girl': 1, 'SHUFFLE': 1, 'CHILL': 1, 'LAND ': 1, 'AITA': 1, 'AKRON': 1, '$FEY': 1, 'EMOB': 1, 'TVA': 1, 'LENI': 1, 'gasKRUTON': 1, 'gasREDBULL': 1, 'gas#WLS': 1, 'gasTTCAT': 1, 'gasPIPICAT': 1, 'gasGTOOL': 1, 'gasTONIGHT': 1, 'gasTKK': 1, 'gasPRICK ': 1, 'gasTONNO': 1, 'gasGIGA': 1, 'gasGOLDENDOGS': 1, 'gas#GT': 1, 'gasISA': 1, 'gasREPE': 1, 'gasBSW': 1, 'gasDUCKY': 1, 'gasRECAPY': 1, 'gasDCRUG': 1, 'gasDAB': 1, 'gasSADINDIAN': 1, 'gasDLX': 1, 'gasRST': 1, 'gasMESSI': 1, 'gasMAGE': 1, 'gasKBRO': 1, 'gasAPOLLO4': 1, 'gasSLAX': 1, 'gasOVER': 1, 'FLOCK': 1, 'YORSHIK': 1, 'AVD': 1, 'INFLIP': 1, 'HASH': 1, 'TON-FISH LP': 1, 'Hasbik': 1, 'MEMES': 1, 'gasCHEESE': 1, 'gasCRF': 1, 'POCKETFI': 1, 'BTC': 1, 'ETH': 1, 'PHW': 1, 'j++': 1, '$TSAR': 1, '$Blu': 1, 'wIV': 1, 'PICA': 1, 'VRV': 1, 'LIPS': 1, 'LEHA': 1, 'gasTRUMPSTER': 1, 'gasGODL': 1, 'PAMPERS': 1, 'gasDJGRL': 1, 'BRO': 1, 'TIGER-BRO LP': 1, 'DTN': 1, 'McQuack': 1, '$RoOLZ': 1, 'BORSCH': 1, 'AMBER': 1, 'ETR': 1, 'PEPEDAS': 1, 'BANANATON': 1, 'ZUKI': 1, 'TOME': 1, 'xHOTDOG': 1, 'SLH': 1, 'FOX': 1, 'TRP': 1, 'OTCELF': 1, 'RUBCOIN': 1, 'hamster-kombat.pro': 1, 'MNS': 1, 'LON': 1, 'TON coins ': 1, 'COFE': 1, 'GT': 1, 'DMT': 1, 'CCJ': 1, 'GRPO': 1, 'TIBC': 1, 'FOXA': 1, 'SHEKEL': 1, 'BUISEALOVE': 1, 'MNT': 1, '$NOT': 1, 'KURTKA': 1, 'Chair': 1, 'TON RAINBOW': 1, 'КОЛОБОК': 1, 'OKO': 1, 'gasWIFT': 1, 'gasTRINITY': 1, 'gasBINGX': 1, 'CLVR': 1, 'gasMEOW': 1, 'gasDBUY': 1, 'TOMOON': 1, 'gasFLOG': 1, 'BIGBUTTS': 1, 'gasPEANUT': 1, 'gasBABYDOGE': 1, 'gasPROMO': 1, '$PANDA': 1, 'gasWOODY': 1, 'gasRUS': 1, 'gasHARRISWIN': 1, 'gasAP': 1, 'gasFG': 1, 'gasSIMONSCAT': 1, 'gasTMETR': 1, 'gasLEGI': 1, 'gasLECA': 1, 'MKSHNKNS': 1, 'gasVENOMLG': 1, 'gasLEVAG': 1, 'BAPE': 1, 'gasEPUMP': 1, 'gasSTS': 1, 'BLUS': 1, 'gasKOKA': 1, 'GRATON': 1, 'MAINE': 1, 'HIRA': 1, '$POF': 1, 'BSC': 1, 'Arutoff': 1, 'gasHE TOT': 1, 'gasPURESHKA': 1, 'DYNYA': 1, 'MELON': 1, 'gasGOSLING': 1, 'TEO': 1, 'TEO-TON LP': 1, 'QTP': 1, 'LOTHCAT': 1, 'RENDY': 1, 'TAX': 1, 'VVIA': 1, 'RUB': 1, 'RUB-TON LP': 1, 'JOO': 1, 'ELCHANIN': 1, 'TON ᴛᴏɴᴘɪx.ᴄᴏᴍ': 1, 'LytCoin': 1, 'jTOWER': 1, 'Wojak': 1, 'BIAO': 1, 'BOSTON': 1, 'ELF': 1, 'GPI': 1, 'RAFF-TON LP': 1, 'DRAN': 1, 'SW': 1, 'BM': 1, 'VZWDN': 1, 'VZWDN-TON LP': 1, 'FROG': 1, 'JackKegs': 1, 'jNANO-C': 1, 'jNANO': 1, 'OMG': 1, 'HYPE': 1, 'j-jInvest': 1, 'gasBGSMK': 1, 'MoonTON': 1, 'TOPTON': 1, 'KING': 1, 'RICHTON': 1, 'MILLION': 1, 'SOLANA': 1, 'TONR': 1, 'T': 1, '$BOOM': 1, 'SNG': 1, 'KENTO': 1, 'JVS': 1, 'AR': 1, 'V10': 1, 'VASILIY': 1, 'HEHE': 1, 'C8TON': 1, 'XMOON': 1, 'Notcat': 1, 'Bonk': 1, 'Cookie': 1, 'SUNcoin': 1, 'EAT': 1, 'Simba': 1, 'LGN24': 1, 'pCRDF': 1, 'MCL': 1, 'KGC': 1, 'GPC': 1, 'TCL': 1, 'VCN': 1, 'MERCH': 1, 'gasRATDOG': 1, 'BANON': 1, 'Bera': 1, 'Things Regular Token': 1, 'матроскин': 1, 'gasHAMSTER': 1, 'gasTRHINO': 1, 'gasXI': 1, 'gasFIGHT ': 1, 'SHREKS': 1, 'TSEE': 1, 'WTF-TON LP': 1, 'TAC': 1, 'GREND': 1, 'FSWAP': 1, 'TGLOCK': 1, 'jMVL': 1, 'ATON2': 1, 'TOTO': 1, 'SPERM': 1, 'INMO': 1, 'VoiceDrop1': 1, 'DUDILDA DROP': 1, 'ESS': 1, 'TIME-TON LP': 1, 'RESPECT': 1, 'PPTON': 1, 'MANNA': 1, 'LONE': 1, 'ITT': 1, 'CHP': 1, 'PRANKX': 1, 'ASHOT': 1, 'PRANK': 1, 'PEACH': 1, 'CHG': 1, 'T131': 1, 'GUS': 1, 'TMONK': 1, 'Thram': 1, 'TJET': 1, 'LEA': 1, 'NEZOLOTO': 1, '$BUSH': 1, 'NIGACHU': 1, 'DIDID': 1, 'FRANKLIN ': 1, 'VITYA DEGEN': 1, 'EDL': 1, 'SIUUU': 1, '$HOLBIN': 1, 'TBOT': 1, 'gasFROG': 1, 'gasGTON': 1, '$BRETT': 1, 'LADYS': 1, 'gasTBIRD': 1, 'gasTCOCK': 1, 'gasTREX': 1, 'gasTMAN': 1, 'gasBETCLOWN': 1, 'gasTHORNY': 1, 'gasTDOGE': 1, 'gasT': 1, 'gasCAP': 1, 'gas $MEXICO': 1, 'gasBEAR🐻': 1, 'gasTTOMMYJERR': 1, 'gasTPEOPLE': 1, 'gasASTRO': 1, 'gasRIO': 1, 'gasGREEN': 1, 'gasBRADOK': 1, 'gasTIGER': 1, 'gasTWOLF': 1, 'gasTSHIPE': 1, 'gasTBEARMONEY': 1, 'gasEASY': 1, 'gasT-BULL': 1, 'ELAD': 1, 'LENIN': 1, 'st-GRAM-20D': 1, '$FAST': 1, '$TON': 1, '$DOGS': 1, 'SOVEREIGN': 1, 'gasKIT': 1, 'BTJ': 1, 'SKULL': 1, 'MMPRO': 1, 'TON Swap at @frozentonbot': 1, 'PC': 1, 'RRMONEY': 1, 'STR': 1, 'LAMB': 1, 'SOCK': 1, 'BOBUX': 1, 'PLNcoin': 1, 'st-LP-28D': 1, 'LIS': 1, 'NG': 1, 'Sinok': 1, 'UIM': 1, 'NNS': 1, 'DFP': 1, 'INFT': 1, 'RUBLE': 1, 'NWH': 1, 'SSS': 1, 'KORAT': 1, 'TBTC': 1, 'DGT ': 1, 'BWS': 1, 'ZHULIK': 1, 'MILFCOIN': 1, 'KALKAN': 1, 'MEMEPILLS': 1, 'SDS138': 1, 'WOOF-pTON LP': 1, 'SOSED': 1, 'BMTD': 1, 'TONX': 1, 'PPT': 1, 'KPT': 1, 'BRS': 1, 'WCARAT': 1, 'CARAT': 1, 'LEAVES': 1, 'jUSDТ ': 1, 'ALBART': 1, 'BTCAT': 1, 'DOOM': 1, 'DOLLARIONS': 1, 'KNIGHTRON': 1, 'CAPY': 1, 'FARMER': 1, 'ARTELA': 1, 'MARVINM': 1, 'KYC': 1, 'jDAI': 1, 'SMILE': 1, 'LOG': 1, 'CORGI': 1, 'HONEY': 1, 'SASHA': 1, 'gasINS': 1, 'gasSTRON': 1, 'gasBENNYZ': 1, 'gasWINNERAI': 1, 'UNIT': 1, 'ANY': 1, 'SUPPORT': 1, 'MAESTRO': 1, 'KTON-LBD': 1, 'FRANC': 1, 'BARILLA': 1, 'PT': 1, 'VVT': 1, 'AITON': 1, 'TRUD': 1, 'TSV': 1, 'IDU': 1, '+': 1, 'Space': 1, 'Cbk': 1, 'PWNAO': 1, 'LVT': 1, 'ROCK': 1, 'raha': 1, 'PAPA': 1, 'FLOPPA': 1, 'FLEKS': 1, 'DEGENS': 1, 'DEG': 1, 'gasFLOAT': 1, 'LAZY': 1, 'XUI': 1, 'ARAb': 1, 'NAHUY': 1, '$shitcoin': 1, 'gasMAFIA': 1, 'MOT': 1, 'THEROCKET': 1, 'BOU': 1, 'gasBNZ': 1, 'MURR': 1, 'SABA': 1, 'blood': 1, 'BRTN': 1, 'ELON_MUSK': 1, 'REHA': 1, 'TapOk': 1, 'TEFT': 1, 'FFMTOKEN': 1, 'MIN': 1, 'T2': 1, 'TONAI': 1, 'USDAI': 1, 'ILYA': 1, 'FREDO': 1, 'gasRTON': 1, 'gasBEAGLE': 1, 'iKnow': 1, 'TONOG': 1, 'IOG': 1, 'FALB': 1, 'TonG': 1, 'HairG': 1, 'HOPPY': 1, 'NELLY': 1, 'KIZA': 1, 'USDC ERC20': 1, 'gasFANTOMAT': 1, 'TY': 1, 'BLH': 1, 'GSH': 1, 'DINOBITS': 1, 'LQ': 1, 'MINASA': 1, 'GSO': 1, 'DIANA': 1, '$KIT': 1, 'DUREV': 1, 'SНIT': 1, 'PACMEM': 1, 'STRIKE ': 1, 'HACHIKO': 1, 'WT404': 1, 'TJ': 1, 'Ddd': 1, 'ddd': 1, 'PP': 1, 'LMP': 1, 'WHY': 1, 'omg': 1, 'IDK': 1, 'Pl': 1, 'YD': 1, 'wow': 1, 'ph': 1, 'SBD': 1, 'OK': 1, 'LJ': 1, 'LJ3M': 1, '3LJ': 1, 'LBJ3': 1, 'LMJ': 1, 'NR': 1, 'YV': 1, 'BG': 1, 'TUN': 1, 'BG2': 1, 'DCT': 1, 'CA': 1, 'PLTND': 1, '222': 1, 'RN': 1, 'BB': 1, 'Great': 1, 'Mas': 1, 'SFSG': 1, 'SFAG': 1, 'MC': 1, 'Computer': 1, 'gasREFDUROV': 1, 'gasIPHONE': 1, 'gasGRD': 1, 'gasBLUM': 1, 'gasTSUR': 1, 'gasTPEPE': 1, 'gasLUCI ': 1, 'gasKTON': 1, 'gasMAYBE': 1, 'gasSHAURMA': 1, 'gasTONLANDER': 1, 'gasЛИСТЕНГ)))': 1, 'gasLOST ': 1, 'gasTEST': 1, 'gasJMY': 1, 'gasKAS': 1, 'gasVCX': 1, 'gasZXCZXCZXCZ': 1, 'gasBB': 1, 'gasTUNKO': 1, 'gasKRYA': 1, 'gasUSA': 1, 'gasTRUMP': 1, 'CASPER': 1, 'gasMMA': 1, 'PAPE': 1, 'gasMDR': 1, 'STB': 1, 'ANMLS': 1, 'LIZ': 1, 'LASTUDKA': 1, 'GEMOVICH': 1, 'ROCKET': 1, 'NC': 1, 'gasFOXMP3': 1, 'gasCHISA': 1, 'gasBEZZUB': 1, 'PYTON': 1, '$STonlin': 1, 'PETA': 1, '$ONTON': 1, 'gasTOWEL': 1, 'gasDSONIC': 1, 'gasDDOGE': 1, 'gasBLZ': 1, 'gasREZEUS': 1, 'gasBLUH': 1, 'gasDURBAN': 1, 'gasCATOG': 1, 'gasKHMSTR': 1, 'gasRIP': 1, 'gasDUMBDUCK': 1, 'gasCHICKHARA': 1, 'Dovecat': 1, 'gasSTOKS': 1, 'gasGASDUROV': 1, 'gasDIF': 1, 'gasGASCATS': 1, 'gasRENO': 1, 'gasSONIC': 1, 'gasAVKT': 1, 'gasPIZZAS': 1, 'gasBTT': 1, 'gasSOON': 1, 'gasTOR': 1, 'gasHOID': 1, 'gasARCADE': 1, 'gasNUTSEASON': 1, 'gasHAPPY': 1, 'gasSEC': 1, 'gasPIPELO': 1, 'gasQWERTY': 1, 'gasJONKLER': 1, 'DOSHIK': 1, 'CUMBR': 1, 'IHG': 1, 'TEST': 1, '$NEMO': 1, 'SPNG': 1, 'CUSD': 1, 'UЅDT': 1, 'TOSH': 1, 'ROSHN': 1, 'NOTNOT': 1, 'MEWTON': 1, 'BLEPE': 1, 'DODU': 1, 'ReDFC': 1, 'TETE': 1, 'faun': 1, 'PENIS': 1, 'BOO': 1, 'FORT': 1, 'TBY': 1, 'SEX': 1, 'TRAX': 1, 'GRIMACE ': 1, '$DUCK': 1, 'MLT': 1, 'PIXEL': 1, 'ICOS': 1, 'TCAT': 1, 'eNOT': 1})\n"
     ]
    }
   ],
   "source": [
    "# Create a list to store all tokens\n",
    "all_tokens = []\n",
    "\n",
    "# Iterate through each wallet\n",
    "for wallet_address, wallet_info in wallet_data.items():\n",
    "    # Add each token symbol to the list\n",
    "    for token_address, token_info in wallet_info['balances'].items():\n",
    "        all_tokens.append(token_info['symbol'])\n",
    "\n",
    "# Count token frequencies\n",
    "token_counts = Counter(all_tokens)\n",
    "print(token_counts)"
   ]
  },
  {
   "cell_type": "code",
   "execution_count": 39,
   "metadata": {},
   "outputs": [
    {
     "name": "stdout",
     "output_type": "stream",
     "text": [
      "\n",
      "Token frequency DataFrame:\n",
      "    token  count\n",
      "0     TON   1447\n",
      "1    USD₮    335\n",
      "2     NOT    229\n",
      "3    RAFF    170\n",
      "4   tsTON    140\n",
      "5    DOGS    136\n",
      "6   KINGY    123\n",
      "7   durev    112\n",
      "8    GRAM     90\n",
      "9    STON     89\n",
      "10   WEB3     86\n",
      "11    WIF     85\n",
      "12    MMM     80\n",
      "13  TGRAM     76\n",
      "14     LP     76\n",
      "15   ANON     75\n",
      "16    DFC     74\n",
      "17  HMSTR     69\n",
      "18    MEM     68\n",
      "19  CLOWN     68\n"
     ]
    }
   ],
   "source": [
    "# Convert Counter object to DataFrame\n",
    "token_df = pd.DataFrame.from_dict(token_counts, orient='index', columns=['count'])\n",
    "token_df = token_df.reset_index().rename(columns={'index': 'token'})\n",
    "token_df = token_df.sort_values('count', ascending=False).reset_index(drop=True)\n",
    "\n",
    "# Display the DataFrame\n",
    "print(\"\\nToken frequency DataFrame:\")\n",
    "print(token_df.iloc[:20])\n"
   ]
  },
  {
   "cell_type": "code",
   "execution_count": 47,
   "metadata": {},
   "outputs": [
    {
     "name": "stdout",
     "output_type": "stream",
     "text": [
      "\n",
      "Top TON holders:\n",
      "20\n",
      "                                                        wallet_address  \\\n",
      "0   0:a656049c1726f94e56bf6b258a429fb9e4ce8e43f833f670234cb63137cd4c24   \n",
      "1   0:a3935861f79daf59a13d6d182e1640210c02f98e3df18fda74b8f5ab141abf18   \n",
      "2   0:5b60b6eb9cfd25fc79935edcf695759b378700658e9570f401e2b6d79d0749d0   \n",
      "3   0:12296302cbfc7a1a06fce106952880625783080033ccdcac59e48b8318a45324   \n",
      "4   0:711eb3521dd2f8be08d64fc769971bf00df49167f8b2f2cd15099fd02e07f525   \n",
      "5   0:dafc3ed2e7888482d7d2de752a9ca45071f7829f056d02354500869771238c1f   \n",
      "6   0:39b63f1e8f5abd27d2e7c8f7036c51bab7cebba87909cb80ec9a737d9a3bf439   \n",
      "7   0:93a79ec86adbd4e501f5923159ac9f4b77cb8a3c8b52741b33b6a989afbc0f2c   \n",
      "8   0:a1bb8d6e328c2d7507040ff5091da85066d325b0f655cf89a68478b61363774b   \n",
      "9   0:dd2de10cde0c7c056bf4e6476a42315529483c24d934bbde593a71f9ace3f949   \n",
      "10  0:699688b587361f073eafacdb8e0447ab90a880302b0c2eb9501d957406c7d81a   \n",
      "11  0:136320fc454b38e569051361a3cd2412af9f0fc3d2799432b3896d95b61d8c76   \n",
      "12  0:3a8a00cb43b404508b6bd55392fb0878324517edb7755f06ef1000dffd6df457   \n",
      "13  0:12824717a4b1fbae4c05b689ddd6d25602b9863fc34970589d510e260a2fcd0b   \n",
      "14  0:18275b5eacd9afa01876e978bbb4b6bf3f8b7f3863193970547c307698b306b9   \n",
      "15  0:97e6dbae39825dca3583da7c95faf731aad58a3562d21e24a7900e24ca079233   \n",
      "16  0:44e6ef6a69926f13ea8c6900309874399cb6364be21c4516ab63b7224466d682   \n",
      "17  0:81bb6a226928762c5f82fa8092510c32d7ea9095bf3fac253f2e3933004804c6   \n",
      "18  0:1f6adc302c4fd348fc55e136767b21b3d7dda9199f7fac8ce37b638e126b65b0   \n",
      "19  0:b93a221987b6833ddc7d17d178715ab85e050b5005d3143fceb94e55dd47caa9   \n",
      "\n",
      "                              wallet_name   balance  \n",
      "0                     shabi.ton · account 132798.53  \n",
      "1           Getgems Marketplace · account  26234.33  \n",
      "2                    kitten.ton · account  13384.41  \n",
      "3                 alexwhale.ton · account  11709.86  \n",
      "4                  shanghai.ton · account   9499.24  \n",
      "5                     blake.ton · account   8325.53  \n",
      "6                    ryans.t.me · account   3037.42  \n",
      "7                  samosval.ton · account   2974.86  \n",
      "8                  antonio.t.me · account   2681.61  \n",
      "9               mike-wowone.ton · account   2579.98  \n",
      "10            simonvarivoda.ton · account   2446.87  \n",
      "11                alexsandr.ton · account   2147.78  \n",
      "12                    mayo.t.me · account   2019.00  \n",
      "13              deeptownbot.ton · account   2006.88  \n",
      "14               carolinee.t.me · account   1995.56  \n",
      "15  jeffreydahmerdoescrypto.ton · account   1950.61  \n",
      "16                   joepan.ton · account   1914.48  \n",
      "17                  ellafis.ton · account   1910.97  \n",
      "18               buddymusic.ton · account   1675.41  \n",
      "19              timecapsule.ton · account   1600.94  \n"
     ]
    }
   ],
   "source": [
    "def get_top_holders_by_token(token_symbol, n=10):\n",
    "    # Create a list to store wallet balances for the specified token\n",
    "    token_holders = []\n",
    "    \n",
    "    # Iterate through wallets\n",
    "    for wallet_address, wallet_info in wallet_data.items():\n",
    "        # Check each token in the wallet\n",
    "        for token_address, token_info in wallet_info['balances'].items():\n",
    "            if token_info['symbol'] == token_symbol:\n",
    "                # Add wallet info to list\n",
    "                token_holders.append({\n",
    "                    'wallet_address': wallet_address,\n",
    "                    'wallet_name': wallet_info['name'],\n",
    "                    'balance': token_info['balance'] / (10 ** token_info['decimal']),\n",
    "                    'price': token_info['price']\n",
    "                })\n",
    "                break\n",
    "    \n",
    "    # Convert to DataFrame and sort\n",
    "    holders_df = pd.DataFrame(token_holders)\n",
    "    if not holders_df.empty:\n",
    "        holders_df['value_usd'] = holders_df['balance'] * holders_df['price']\n",
    "        holders_df = holders_df.sort_values('balance', ascending=False).reset_index(drop=True)\n",
    "        print(n)\n",
    "        return holders_df.head(n)[['wallet_address', 'wallet_name', 'balance']]\n",
    "    else:\n",
    "        return pd.DataFrame(columns=['wallet_address', 'wallet_name', 'balance', 'price', 'value_usd'])\n",
    "\n",
    "# Example usage:\n",
    "print(\"\\nTop TON holders:\")\n",
    "print(get_top_holders_by_token('TON', n=20))\n",
    "\n",
    "\n"
   ]
  },
  {
   "cell_type": "code",
   "execution_count": 48,
   "metadata": {},
   "outputs": [
    {
     "name": "stdout",
     "output_type": "stream",
     "text": [
      "\n",
      "Top USDT holders:\n",
      "1\n",
      "                                                       wallet_address  \\\n",
      "0  0:cb91d691b62233dc1632bdf1e43578da1c17592196c1aa4ff1a6ec0b1a1070b3   \n",
      "\n",
      "               wallet_name       balance  \n",
      "0  deerplus.t.me · account 1428975962.48  \n"
     ]
    }
   ],
   "source": [
    "# Example usage:\n",
    "print(\"\\nTop USDT holders:\")\n",
    "print(get_top_holders_by_token('USD₮', n=1))"
   ]
  },
  {
   "cell_type": "code",
   "execution_count": 42,
   "metadata": {},
   "outputs": [
    {
     "name": "stdout",
     "output_type": "stream",
     "text": [
      "\n",
      "Top NOT holders:\n",
      "20\n",
      "                       wallet_name          balance\n",
      "0        Notcoin Royalty · account 1200000000000.00\n",
      "1        kerrycherry.ton · account    5324010718.64\n",
      "2             gustav.ton · account    4078354479.86\n",
      "3               drew.ton · account       7332794.21\n",
      "4            benning.ton · account       6818066.37\n",
      "5              blake.ton · account       6405411.13\n",
      "6      mikefromminsk.ton · account       5341372.50\n",
      "7           evelone.t.me · account       3307242.45\n",
      "8            ellafis.ton · account       3049910.00\n",
      "9               neil.ton · account       1000000.00\n",
      "10       mike-wowone.ton · account        575654.00\n",
      "11          samosval.ton · account        535012.63\n",
      "12            maxbet.ton · account        518930.88\n",
      "13      samarakovsky.ton · account        382397.49\n",
      "14       theoligarch.ton · account        273154.90\n",
      "15         macedonia.ton · account        260030.48\n",
      "16    kevinyeung1010.ton · account        231337.54\n",
      "17       stellalumen.ton · account        162676.32\n",
      "18  francescomontana.ton · account        158121.85\n",
      "19        kayipbekov.ton · account        131605.58\n"
     ]
    }
   ],
   "source": [
    "# Example usage:\n",
    "print(\"\\nTop NOT holders:\")\n",
    "print(get_top_holders_by_token('NOT', n=20))"
   ]
  }
 ],
 "metadata": {
  "kernelspec": {
   "display_name": "web-dev",
   "language": "python",
   "name": "python3"
  },
  "language_info": {
   "codemirror_mode": {
    "name": "ipython",
    "version": 3
   },
   "file_extension": ".py",
   "mimetype": "text/x-python",
   "name": "python",
   "nbconvert_exporter": "python",
   "pygments_lexer": "ipython3",
   "version": "3.12.0"
  }
 },
 "nbformat": 4,
 "nbformat_minor": 2
}
